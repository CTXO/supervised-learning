{
 "cells": [
  {
   "attachments": {},
   "cell_type": "markdown",
   "metadata": {},
   "source": [
    "# Supervised learning"
   ]
  },
  {
   "attachments": {},
   "cell_type": "markdown",
   "metadata": {},
   "source": [
    "## Dependencies"
   ]
  },
  {
   "cell_type": "code",
   "execution_count": 1,
   "metadata": {},
   "outputs": [],
   "source": [
    "import pandas as pd\n",
    "from sklearn.neighbors import KNeighborsClassifier\n",
    "from sklearn.model_selection import train_test_split\n",
    "from sklearn.metrics import accuracy_score\n",
    "from sklearn.metrics import recall_score\n",
    "from sklearn.metrics import f1_score\n",
    "from sklearn.tree import DecisionTreeClassifier\n",
    "from sklearn.neural_network import MLPClassifier\n",
    "from sklearn.ensemble import RandomForestClassifier\n",
    "from sklearn.preprocessing import StandardScaler\n",
    "from sklearn.preprocessing import LabelEncoder\n",
    "from sklearn.model_selection import GridSearchCV\n",
    "import matplotlib.pyplot as plt\n",
    "from math import sqrt, ceil"
   ]
  },
  {
   "attachments": {},
   "cell_type": "markdown",
   "metadata": {
    "slideshow": {
     "slide_type": "subslide"
    }
   },
   "source": [
    "## Data processing"
   ]
  },
  {
   "cell_type": "code",
   "execution_count": 2,
   "metadata": {},
   "outputs": [
    {
     "name": "stdout",
     "output_type": "stream",
     "text": [
      "10000\n"
     ]
    },
    {
     "data": {
      "text/html": [
       "<div>\n",
       "<style scoped>\n",
       "    .dataframe tbody tr th:only-of-type {\n",
       "        vertical-align: middle;\n",
       "    }\n",
       "\n",
       "    .dataframe tbody tr th {\n",
       "        vertical-align: top;\n",
       "    }\n",
       "\n",
       "    .dataframe thead th {\n",
       "        text-align: right;\n",
       "    }\n",
       "</style>\n",
       "<table border=\"1\" class=\"dataframe\">\n",
       "  <thead>\n",
       "    <tr style=\"text-align: right;\">\n",
       "      <th></th>\n",
       "      <th>date</th>\n",
       "      <th>name_1</th>\n",
       "      <th>name_2</th>\n",
       "      <th>age_1</th>\n",
       "      <th>age_2</th>\n",
       "      <th>rating_1</th>\n",
       "      <th>rating_2</th>\n",
       "      <th>k1</th>\n",
       "      <th>k2</th>\n",
       "      <th>result</th>\n",
       "      <th>player1_is_win?</th>\n",
       "    </tr>\n",
       "  </thead>\n",
       "  <tbody>\n",
       "    <tr>\n",
       "      <th>0</th>\n",
       "      <td>01.01.2016</td>\n",
       "      <td>Samantha Crawford</td>\n",
       "      <td>Tsvetana Pironkova</td>\n",
       "      <td>20</td>\n",
       "      <td>28</td>\n",
       "      <td>142</td>\n",
       "      <td>59</td>\n",
       "      <td>4.05</td>\n",
       "      <td>1.27</td>\n",
       "      <td>7-6(1) 6-4</td>\n",
       "      <td>1</td>\n",
       "    </tr>\n",
       "    <tr>\n",
       "      <th>1</th>\n",
       "      <td>01.01.2016</td>\n",
       "      <td>Tsvetana Pironkova</td>\n",
       "      <td>Samantha Crawford</td>\n",
       "      <td>28</td>\n",
       "      <td>20</td>\n",
       "      <td>59</td>\n",
       "      <td>142</td>\n",
       "      <td>1.27</td>\n",
       "      <td>4.05</td>\n",
       "      <td>7-6(1) 6-4</td>\n",
       "      <td>0</td>\n",
       "    </tr>\n",
       "    <tr>\n",
       "      <th>2</th>\n",
       "      <td>01.01.2016</td>\n",
       "      <td>Kimberly Birrell</td>\n",
       "      <td>Xinyun Han</td>\n",
       "      <td>17</td>\n",
       "      <td>25</td>\n",
       "      <td>366</td>\n",
       "      <td>157</td>\n",
       "      <td>3.74</td>\n",
       "      <td>1.30</td>\n",
       "      <td>6-7(4) 6-1 6-4</td>\n",
       "      <td>1</td>\n",
       "    </tr>\n",
       "    <tr>\n",
       "      <th>3</th>\n",
       "      <td>01.01.2016</td>\n",
       "      <td>Xinyun Han</td>\n",
       "      <td>Kimberly Birrell</td>\n",
       "      <td>25</td>\n",
       "      <td>17</td>\n",
       "      <td>157</td>\n",
       "      <td>366</td>\n",
       "      <td>1.30</td>\n",
       "      <td>3.74</td>\n",
       "      <td>6-7(4) 6-1 6-4</td>\n",
       "      <td>0</td>\n",
       "    </tr>\n",
       "    <tr>\n",
       "      <th>4</th>\n",
       "      <td>01.01.2016</td>\n",
       "      <td>Olga Savchuk</td>\n",
       "      <td>Sesil Karatantcheva</td>\n",
       "      <td>28</td>\n",
       "      <td>26</td>\n",
       "      <td>196</td>\n",
       "      <td>112</td>\n",
       "      <td>2.39</td>\n",
       "      <td>1.62</td>\n",
       "      <td>6-1 6-2</td>\n",
       "      <td>1</td>\n",
       "    </tr>\n",
       "  </tbody>\n",
       "</table>\n",
       "</div>"
      ],
      "text/plain": [
       "         date              name_1               name_2  age_1  age_2   \n",
       "0  01.01.2016   Samantha Crawford   Tsvetana Pironkova     20     28  \\\n",
       "1  01.01.2016  Tsvetana Pironkova    Samantha Crawford     28     20   \n",
       "2  01.01.2016    Kimberly Birrell           Xinyun Han     17     25   \n",
       "3  01.01.2016          Xinyun Han     Kimberly Birrell     25     17   \n",
       "4  01.01.2016        Olga Savchuk  Sesil Karatantcheva     28     26   \n",
       "\n",
       "   rating_1  rating_2    k1    k2          result  player1_is_win?  \n",
       "0       142        59  4.05  1.27      7-6(1) 6-4                1  \n",
       "1        59       142  1.27  4.05      7-6(1) 6-4                0  \n",
       "2       366       157  3.74  1.30  6-7(4) 6-1 6-4                1  \n",
       "3       157       366  1.30  3.74  6-7(4) 6-1 6-4                0  \n",
       "4       196       112  2.39  1.62         6-1 6-2                1  "
      ]
     },
     "execution_count": 2,
     "metadata": {},
     "output_type": "execute_result"
    }
   ],
   "source": [
    "data = pd.read_csv('2016-2017_orig.csv', sep=';')[:10000]\n",
    "print(len(data))\n",
    "data.head()\n",
    "\n"
   ]
  },
  {
   "cell_type": "code",
   "execution_count": 3,
   "metadata": {},
   "outputs": [
    {
     "name": "stdout",
     "output_type": "stream",
     "text": [
      "win: 5000, lose:5000\n"
     ]
    }
   ],
   "source": [
    "x = data.drop(['player1_is_win?', 'name_1', 'name_2', 'result'], axis=1)\n",
    "y = data['player1_is_win?']\n",
    "\n",
    "for col in ['date']:\n",
    "    le = LabelEncoder()\n",
    "    le.fit(data[col])\n",
    "    transformed = le.transform(data[col])\n",
    "    x[col] = transformed\n",
    "\n",
    "\n",
    "\n",
    "x = StandardScaler().fit_transform(x)\n",
    "win = data[data['player1_is_win?'] == 1]\n",
    "lose = data[data['player1_is_win?'] == 0]\n",
    "print(f\"win: {len(win)}, lose:{len(lose)}\")"
   ]
  },
  {
   "cell_type": "code",
   "execution_count": 121,
   "metadata": {},
   "outputs": [
    {
     "name": "stdout",
     "output_type": "stream",
     "text": [
      "Size of train: 9000\n",
      "Size of test: 1000\n"
     ]
    }
   ],
   "source": [
    "x_train, x_test, y_train, y_test = train_test_split(x, y, test_size=0.1)\n",
    "print(f\"Size of train: {len(y_train)}\\nSize of test: {len(y_test)}\")\n",
    "    \n"
   ]
  },
  {
   "attachments": {},
   "cell_type": "markdown",
   "metadata": {},
   "source": [
    "## Find best K"
   ]
  },
  {
   "cell_type": "code",
   "execution_count": 37,
   "metadata": {},
   "outputs": [
    {
     "name": "stdout",
     "output_type": "stream",
     "text": [
      "accuracy train: 0.9954444444444445, accuracy test: 0.587\n"
     ]
    }
   ],
   "source": [
    "dc = DecisionTreeClassifier(criterion='entropy')\n",
    "dc.fit(x_train, y_train)\n",
    "\n",
    "preds_test = dc.predict(x_test)\n",
    "accuracy_test = accuracy_score(preds_test, y_test)\n",
    "\n",
    "preds_train = dc.predict(x_train)\n",
    "accuracy_train = accuracy_score(preds_train, y_train)\n",
    "\n",
    "print(f\"accuracy train: {accuracy_train}, accuracy test: {accuracy_test}\")\n",
    "\n"
   ]
  },
  {
   "cell_type": "code",
   "execution_count": 28,
   "metadata": {},
   "outputs": [
    {
     "data": {
      "text/html": [
       "<style>#sk-container-id-4 {color: black;background-color: white;}#sk-container-id-4 pre{padding: 0;}#sk-container-id-4 div.sk-toggleable {background-color: white;}#sk-container-id-4 label.sk-toggleable__label {cursor: pointer;display: block;width: 100%;margin-bottom: 0;padding: 0.3em;box-sizing: border-box;text-align: center;}#sk-container-id-4 label.sk-toggleable__label-arrow:before {content: \"▸\";float: left;margin-right: 0.25em;color: #696969;}#sk-container-id-4 label.sk-toggleable__label-arrow:hover:before {color: black;}#sk-container-id-4 div.sk-estimator:hover label.sk-toggleable__label-arrow:before {color: black;}#sk-container-id-4 div.sk-toggleable__content {max-height: 0;max-width: 0;overflow: hidden;text-align: left;background-color: #f0f8ff;}#sk-container-id-4 div.sk-toggleable__content pre {margin: 0.2em;color: black;border-radius: 0.25em;background-color: #f0f8ff;}#sk-container-id-4 input.sk-toggleable__control:checked~div.sk-toggleable__content {max-height: 200px;max-width: 100%;overflow: auto;}#sk-container-id-4 input.sk-toggleable__control:checked~label.sk-toggleable__label-arrow:before {content: \"▾\";}#sk-container-id-4 div.sk-estimator input.sk-toggleable__control:checked~label.sk-toggleable__label {background-color: #d4ebff;}#sk-container-id-4 div.sk-label input.sk-toggleable__control:checked~label.sk-toggleable__label {background-color: #d4ebff;}#sk-container-id-4 input.sk-hidden--visually {border: 0;clip: rect(1px 1px 1px 1px);clip: rect(1px, 1px, 1px, 1px);height: 1px;margin: -1px;overflow: hidden;padding: 0;position: absolute;width: 1px;}#sk-container-id-4 div.sk-estimator {font-family: monospace;background-color: #f0f8ff;border: 1px dotted black;border-radius: 0.25em;box-sizing: border-box;margin-bottom: 0.5em;}#sk-container-id-4 div.sk-estimator:hover {background-color: #d4ebff;}#sk-container-id-4 div.sk-parallel-item::after {content: \"\";width: 100%;border-bottom: 1px solid gray;flex-grow: 1;}#sk-container-id-4 div.sk-label:hover label.sk-toggleable__label {background-color: #d4ebff;}#sk-container-id-4 div.sk-serial::before {content: \"\";position: absolute;border-left: 1px solid gray;box-sizing: border-box;top: 0;bottom: 0;left: 50%;z-index: 0;}#sk-container-id-4 div.sk-serial {display: flex;flex-direction: column;align-items: center;background-color: white;padding-right: 0.2em;padding-left: 0.2em;position: relative;}#sk-container-id-4 div.sk-item {position: relative;z-index: 1;}#sk-container-id-4 div.sk-parallel {display: flex;align-items: stretch;justify-content: center;background-color: white;position: relative;}#sk-container-id-4 div.sk-item::before, #sk-container-id-4 div.sk-parallel-item::before {content: \"\";position: absolute;border-left: 1px solid gray;box-sizing: border-box;top: 0;bottom: 0;left: 50%;z-index: -1;}#sk-container-id-4 div.sk-parallel-item {display: flex;flex-direction: column;z-index: 1;position: relative;background-color: white;}#sk-container-id-4 div.sk-parallel-item:first-child::after {align-self: flex-end;width: 50%;}#sk-container-id-4 div.sk-parallel-item:last-child::after {align-self: flex-start;width: 50%;}#sk-container-id-4 div.sk-parallel-item:only-child::after {width: 0;}#sk-container-id-4 div.sk-dashed-wrapped {border: 1px dashed gray;margin: 0 0.4em 0.5em 0.4em;box-sizing: border-box;padding-bottom: 0.4em;background-color: white;}#sk-container-id-4 div.sk-label label {font-family: monospace;font-weight: bold;display: inline-block;line-height: 1.2em;}#sk-container-id-4 div.sk-label-container {text-align: center;}#sk-container-id-4 div.sk-container {/* jupyter's `normalize.less` sets `[hidden] { display: none; }` but bootstrap.min.css set `[hidden] { display: none !important; }` so we also need the `!important` here to be able to override the default hidden behavior on the sphinx rendered scikit-learn.org. See: https://github.com/scikit-learn/scikit-learn/issues/21755 */display: inline-block !important;position: relative;}#sk-container-id-4 div.sk-text-repr-fallback {display: none;}</style><div id=\"sk-container-id-4\" class=\"sk-top-container\"><div class=\"sk-text-repr-fallback\"><pre>DecisionTreeClassifier(criterion=&#x27;entropy&#x27;, max_depth=7, min_samples_leaf=40,\n",
       "                       min_samples_split=3)</pre><b>In a Jupyter environment, please rerun this cell to show the HTML representation or trust the notebook. <br />On GitHub, the HTML representation is unable to render, please try loading this page with nbviewer.org.</b></div><div class=\"sk-container\" hidden><div class=\"sk-item\"><div class=\"sk-estimator sk-toggleable\"><input class=\"sk-toggleable__control sk-hidden--visually\" id=\"sk-estimator-id-4\" type=\"checkbox\" checked><label for=\"sk-estimator-id-4\" class=\"sk-toggleable__label sk-toggleable__label-arrow\">DecisionTreeClassifier</label><div class=\"sk-toggleable__content\"><pre>DecisionTreeClassifier(criterion=&#x27;entropy&#x27;, max_depth=7, min_samples_leaf=40,\n",
       "                       min_samples_split=3)</pre></div></div></div></div></div>"
      ],
      "text/plain": [
       "DecisionTreeClassifier(criterion='entropy', max_depth=7, min_samples_leaf=40,\n",
       "                       min_samples_split=3)"
      ]
     },
     "execution_count": 28,
     "metadata": {},
     "output_type": "execute_result"
    }
   ],
   "source": [
    "params = {\n",
    "    'max_depth': [*range(1, 50),None],\n",
    "    'min_samples_split': [3,5,10,20],\n",
    "    'criterion': ['entropy', 'gini'],\n",
    "    'min_samples_leaf': [1,3,5,20,40]\n",
    "}\n",
    "gscv = GridSearchCV(estimator=dc, param_grid=params, cv=5, scoring='accuracy')\n",
    "gscv.fit(x_train, y_train)\n",
    "\n",
    "gscv.best_estimator_\n",
    "\n",
    "# # \n"
   ]
  },
  {
   "cell_type": "code",
   "execution_count": 36,
   "metadata": {},
   "outputs": [
    {
     "data": {
      "text/plain": [
       "0.6726666666666666"
      ]
     },
     "execution_count": 36,
     "metadata": {},
     "output_type": "execute_result"
    }
   ],
   "source": [
    "gscv.best_score_"
   ]
  },
  {
   "cell_type": "code",
   "execution_count": 68,
   "metadata": {},
   "outputs": [
    {
     "name": "stdout",
     "output_type": "stream",
     "text": [
      "accuracy train: 0.691, accuracy test: 0.657\n"
     ]
    }
   ],
   "source": [
    "dc = DecisionTreeClassifier(criterion='entropy', max_depth=7, min_samples_leaf=40, min_samples_split=3)\n",
    "\n",
    "dc.fit(x_train, y_train)\n",
    "\n",
    "preds_test = dc.predict(x_test)\n",
    "accuracy_test = accuracy_score(preds_test, y_test)\n",
    "\n",
    "preds_train = dc.predict(x_train)\n",
    "accuracy_train = accuracy_score(preds_train, y_train)\n",
    "\n",
    "print(f\"accuracy train: {accuracy_train}, accuracy test: {accuracy_test}\")\n",
    "\n"
   ]
  },
  {
   "cell_type": "code",
   "execution_count": 89,
   "metadata": {},
   "outputs": [
    {
     "name": "stdout",
     "output_type": "stream",
     "text": [
      "accuracy train: 0.695, accuracy test: 0.66\n"
     ]
    }
   ],
   "source": [
    "\n",
    "dc = DecisionTreeClassifier(criterion='entropy', max_depth=7)\n",
    "dc.fit(x_train, y_train)\n",
    "\n",
    "preds_test = dc.predict(x_test)\n",
    "accuracy_test = accuracy_score(preds_test, y_test)\n",
    "\n",
    "preds_train = dc.predict(x_train)\n",
    "accuracy_train = accuracy_score(preds_train, y_train)\n",
    "\n",
    "print(f\"accuracy train: {accuracy_train}, accuracy test: {accuracy_test}\")\n",
    "\n"
   ]
  },
  {
   "cell_type": "code",
   "execution_count": 90,
   "metadata": {},
   "outputs": [
    {
     "name": "stdout",
     "output_type": "stream",
     "text": [
      "accuracy train: 0.9954444444444445, accuracy test: 0.65\n"
     ]
    }
   ],
   "source": [
    "\n",
    "dc = RandomForestClassifier(criterion='entropy')\n",
    "dc.fit(x_train, y_train)\n",
    "\n",
    "preds_test = dc.predict(x_test)\n",
    "accuracy_test = accuracy_score(preds_test, y_test)\n",
    "\n",
    "preds_train = dc.predict(x_train)\n",
    "accuracy_train = accuracy_score(preds_train, y_train)\n",
    "\n",
    "print(f\"accuracy train: {accuracy_train}, accuracy test: {accuracy_test}\")\n",
    "\n"
   ]
  },
  {
   "cell_type": "code",
   "execution_count": 94,
   "metadata": {},
   "outputs": [
    {
     "data": {
      "text/plain": [
       "{'criterion': 'entropy',\n",
       " 'max_depth': 4,\n",
       " 'min_samples_leaf': 2,\n",
       " 'min_samples_split': 5,\n",
       " 'n_estimators': 25}"
      ]
     },
     "execution_count": 94,
     "metadata": {},
     "output_type": "execute_result"
    }
   ],
   "source": [
    "dc = RandomForestClassifier(n_jobs=-1)\n",
    "params = {\n",
    "    'n_estimators': [10, 25, 50],\n",
    "    'min_samples_split': [2,5,10,20],\n",
    "    'min_samples_leaf': [2,5,10,20,40],\n",
    "    'max_depth': range(1,40),\n",
    "    'criterion': ['entropy'],\n",
    "\n",
    "}\n",
    "gs = GridSearchCV(dc, param_grid=params, scoring='accuracy', cv=5)\n",
    "gs.fit(x_train, y_train)\n",
    "gs.best_params_\n",
    "\n",
    "# dc.fit(x_train, y_train)\n",
    "\n",
    "# preds_test = dc.predict(x_test)\n",
    "# accuracy_test = accuracy_score(preds_test, y_test)\n",
    "\n",
    "# preds_train = dc.predict(x_train)\n",
    "# accuracy_train = accuracy_score(preds_train, y_train)\n",
    "\n",
    "# print(f\"accuracy train: {accuracy_train}, accuracy test: {accuracy_test}\")\n",
    "\n"
   ]
  },
  {
   "cell_type": "code",
   "execution_count": 100,
   "metadata": {},
   "outputs": [
    {
     "data": {
      "text/html": [
       "<div>\n",
       "<style scoped>\n",
       "    .dataframe tbody tr th:only-of-type {\n",
       "        vertical-align: middle;\n",
       "    }\n",
       "\n",
       "    .dataframe tbody tr th {\n",
       "        vertical-align: top;\n",
       "    }\n",
       "\n",
       "    .dataframe thead th {\n",
       "        text-align: right;\n",
       "    }\n",
       "</style>\n",
       "<table border=\"1\" class=\"dataframe\">\n",
       "  <thead>\n",
       "    <tr style=\"text-align: right;\">\n",
       "      <th></th>\n",
       "      <th>mean_fit_time</th>\n",
       "      <th>std_fit_time</th>\n",
       "      <th>mean_score_time</th>\n",
       "      <th>std_score_time</th>\n",
       "      <th>param_criterion</th>\n",
       "      <th>param_max_depth</th>\n",
       "      <th>param_min_samples_leaf</th>\n",
       "      <th>param_min_samples_split</th>\n",
       "      <th>param_n_estimators</th>\n",
       "      <th>params</th>\n",
       "      <th>split0_test_score</th>\n",
       "      <th>split1_test_score</th>\n",
       "      <th>split2_test_score</th>\n",
       "      <th>split3_test_score</th>\n",
       "      <th>split4_test_score</th>\n",
       "      <th>mean_test_score</th>\n",
       "      <th>std_test_score</th>\n",
       "      <th>rank_test_score</th>\n",
       "    </tr>\n",
       "  </thead>\n",
       "  <tbody>\n",
       "    <tr>\n",
       "      <th>184</th>\n",
       "      <td>0.027450</td>\n",
       "      <td>0.001593</td>\n",
       "      <td>0.005098</td>\n",
       "      <td>0.000241</td>\n",
       "      <td>entropy</td>\n",
       "      <td>4</td>\n",
       "      <td>2</td>\n",
       "      <td>5</td>\n",
       "      <td>25</td>\n",
       "      <td>{'criterion': 'entropy', 'max_depth': 4, 'min_...</td>\n",
       "      <td>0.692778</td>\n",
       "      <td>0.686111</td>\n",
       "      <td>0.673889</td>\n",
       "      <td>0.673333</td>\n",
       "      <td>0.677222</td>\n",
       "      <td>0.680667</td>\n",
       "      <td>0.007588</td>\n",
       "      <td>1</td>\n",
       "    </tr>\n",
       "    <tr>\n",
       "      <th>147</th>\n",
       "      <td>0.013364</td>\n",
       "      <td>0.001206</td>\n",
       "      <td>0.004076</td>\n",
       "      <td>0.000650</td>\n",
       "      <td>entropy</td>\n",
       "      <td>3</td>\n",
       "      <td>10</td>\n",
       "      <td>5</td>\n",
       "      <td>10</td>\n",
       "      <td>{'criterion': 'entropy', 'max_depth': 3, 'min_...</td>\n",
       "      <td>0.690000</td>\n",
       "      <td>0.681111</td>\n",
       "      <td>0.659444</td>\n",
       "      <td>0.682778</td>\n",
       "      <td>0.688333</td>\n",
       "      <td>0.680333</td>\n",
       "      <td>0.010958</td>\n",
       "      <td>2</td>\n",
       "    </tr>\n",
       "    <tr>\n",
       "      <th>408</th>\n",
       "      <td>0.016230</td>\n",
       "      <td>0.002319</td>\n",
       "      <td>0.003778</td>\n",
       "      <td>0.000271</td>\n",
       "      <td>entropy</td>\n",
       "      <td>7</td>\n",
       "      <td>40</td>\n",
       "      <td>2</td>\n",
       "      <td>10</td>\n",
       "      <td>{'criterion': 'entropy', 'max_depth': 7, 'min_...</td>\n",
       "      <td>0.692222</td>\n",
       "      <td>0.686667</td>\n",
       "      <td>0.664444</td>\n",
       "      <td>0.680556</td>\n",
       "      <td>0.677778</td>\n",
       "      <td>0.680333</td>\n",
       "      <td>0.009386</td>\n",
       "      <td>3</td>\n",
       "    </tr>\n",
       "    <tr>\n",
       "      <th>297</th>\n",
       "      <td>0.013837</td>\n",
       "      <td>0.000507</td>\n",
       "      <td>0.003534</td>\n",
       "      <td>0.000172</td>\n",
       "      <td>entropy</td>\n",
       "      <td>5</td>\n",
       "      <td>40</td>\n",
       "      <td>20</td>\n",
       "      <td>10</td>\n",
       "      <td>{'criterion': 'entropy', 'max_depth': 5, 'min_...</td>\n",
       "      <td>0.683333</td>\n",
       "      <td>0.695556</td>\n",
       "      <td>0.666111</td>\n",
       "      <td>0.683333</td>\n",
       "      <td>0.671111</td>\n",
       "      <td>0.679889</td>\n",
       "      <td>0.010354</td>\n",
       "      <td>4</td>\n",
       "    </tr>\n",
       "    <tr>\n",
       "      <th>775</th>\n",
       "      <td>0.038181</td>\n",
       "      <td>0.004627</td>\n",
       "      <td>0.005857</td>\n",
       "      <td>0.000347</td>\n",
       "      <td>entropy</td>\n",
       "      <td>13</td>\n",
       "      <td>40</td>\n",
       "      <td>10</td>\n",
       "      <td>25</td>\n",
       "      <td>{'criterion': 'entropy', 'max_depth': 13, 'min...</td>\n",
       "      <td>0.680556</td>\n",
       "      <td>0.692222</td>\n",
       "      <td>0.668333</td>\n",
       "      <td>0.680556</td>\n",
       "      <td>0.677222</td>\n",
       "      <td>0.679778</td>\n",
       "      <td>0.007663</td>\n",
       "      <td>5</td>\n",
       "    </tr>\n",
       "    <tr>\n",
       "      <th>...</th>\n",
       "      <td>...</td>\n",
       "      <td>...</td>\n",
       "      <td>...</td>\n",
       "      <td>...</td>\n",
       "      <td>...</td>\n",
       "      <td>...</td>\n",
       "      <td>...</td>\n",
       "      <td>...</td>\n",
       "      <td>...</td>\n",
       "      <td>...</td>\n",
       "      <td>...</td>\n",
       "      <td>...</td>\n",
       "      <td>...</td>\n",
       "      <td>...</td>\n",
       "      <td>...</td>\n",
       "      <td>...</td>\n",
       "      <td>...</td>\n",
       "      <td>...</td>\n",
       "    </tr>\n",
       "    <tr>\n",
       "      <th>18</th>\n",
       "      <td>0.009973</td>\n",
       "      <td>0.000280</td>\n",
       "      <td>0.003396</td>\n",
       "      <td>0.000118</td>\n",
       "      <td>entropy</td>\n",
       "      <td>1</td>\n",
       "      <td>5</td>\n",
       "      <td>10</td>\n",
       "      <td>10</td>\n",
       "      <td>{'criterion': 'entropy', 'max_depth': 1, 'min_...</td>\n",
       "      <td>0.588889</td>\n",
       "      <td>0.651111</td>\n",
       "      <td>0.642222</td>\n",
       "      <td>0.641111</td>\n",
       "      <td>0.661667</td>\n",
       "      <td>0.637000</td>\n",
       "      <td>0.025165</td>\n",
       "      <td>2336</td>\n",
       "    </tr>\n",
       "    <tr>\n",
       "      <th>6</th>\n",
       "      <td>0.010241</td>\n",
       "      <td>0.000174</td>\n",
       "      <td>0.003390</td>\n",
       "      <td>0.000222</td>\n",
       "      <td>entropy</td>\n",
       "      <td>1</td>\n",
       "      <td>2</td>\n",
       "      <td>10</td>\n",
       "      <td>10</td>\n",
       "      <td>{'criterion': 'entropy', 'max_depth': 1, 'min_...</td>\n",
       "      <td>0.627222</td>\n",
       "      <td>0.656667</td>\n",
       "      <td>0.660556</td>\n",
       "      <td>0.575556</td>\n",
       "      <td>0.660000</td>\n",
       "      <td>0.636000</td>\n",
       "      <td>0.032670</td>\n",
       "      <td>2337</td>\n",
       "    </tr>\n",
       "    <tr>\n",
       "      <th>48</th>\n",
       "      <td>0.011066</td>\n",
       "      <td>0.001697</td>\n",
       "      <td>0.003738</td>\n",
       "      <td>0.000652</td>\n",
       "      <td>entropy</td>\n",
       "      <td>1</td>\n",
       "      <td>40</td>\n",
       "      <td>2</td>\n",
       "      <td>10</td>\n",
       "      <td>{'criterion': 'entropy', 'max_depth': 1, 'min_...</td>\n",
       "      <td>0.584444</td>\n",
       "      <td>0.659444</td>\n",
       "      <td>0.632222</td>\n",
       "      <td>0.644444</td>\n",
       "      <td>0.647778</td>\n",
       "      <td>0.633667</td>\n",
       "      <td>0.026095</td>\n",
       "      <td>2338</td>\n",
       "    </tr>\n",
       "    <tr>\n",
       "      <th>0</th>\n",
       "      <td>0.163815</td>\n",
       "      <td>0.301084</td>\n",
       "      <td>0.005937</td>\n",
       "      <td>0.004744</td>\n",
       "      <td>entropy</td>\n",
       "      <td>1</td>\n",
       "      <td>2</td>\n",
       "      <td>2</td>\n",
       "      <td>10</td>\n",
       "      <td>{'criterion': 'entropy', 'max_depth': 1, 'min_...</td>\n",
       "      <td>0.664444</td>\n",
       "      <td>0.601111</td>\n",
       "      <td>0.590000</td>\n",
       "      <td>0.642222</td>\n",
       "      <td>0.587222</td>\n",
       "      <td>0.617000</td>\n",
       "      <td>0.030839</td>\n",
       "      <td>2339</td>\n",
       "    </tr>\n",
       "    <tr>\n",
       "      <th>30</th>\n",
       "      <td>0.011556</td>\n",
       "      <td>0.000227</td>\n",
       "      <td>0.004070</td>\n",
       "      <td>0.000387</td>\n",
       "      <td>entropy</td>\n",
       "      <td>1</td>\n",
       "      <td>10</td>\n",
       "      <td>10</td>\n",
       "      <td>10</td>\n",
       "      <td>{'criterion': 'entropy', 'max_depth': 1, 'min_...</td>\n",
       "      <td>0.653889</td>\n",
       "      <td>0.611111</td>\n",
       "      <td>0.576667</td>\n",
       "      <td>0.593333</td>\n",
       "      <td>0.618889</td>\n",
       "      <td>0.610778</td>\n",
       "      <td>0.026047</td>\n",
       "      <td>2340</td>\n",
       "    </tr>\n",
       "  </tbody>\n",
       "</table>\n",
       "<p>2340 rows × 18 columns</p>\n",
       "</div>"
      ],
      "text/plain": [
       "     mean_fit_time  std_fit_time  mean_score_time  std_score_time   \n",
       "184       0.027450      0.001593         0.005098        0.000241  \\\n",
       "147       0.013364      0.001206         0.004076        0.000650   \n",
       "408       0.016230      0.002319         0.003778        0.000271   \n",
       "297       0.013837      0.000507         0.003534        0.000172   \n",
       "775       0.038181      0.004627         0.005857        0.000347   \n",
       "..             ...           ...              ...             ...   \n",
       "18        0.009973      0.000280         0.003396        0.000118   \n",
       "6         0.010241      0.000174         0.003390        0.000222   \n",
       "48        0.011066      0.001697         0.003738        0.000652   \n",
       "0         0.163815      0.301084         0.005937        0.004744   \n",
       "30        0.011556      0.000227         0.004070        0.000387   \n",
       "\n",
       "    param_criterion param_max_depth param_min_samples_leaf   \n",
       "184         entropy               4                      2  \\\n",
       "147         entropy               3                     10   \n",
       "408         entropy               7                     40   \n",
       "297         entropy               5                     40   \n",
       "775         entropy              13                     40   \n",
       "..              ...             ...                    ...   \n",
       "18          entropy               1                      5   \n",
       "6           entropy               1                      2   \n",
       "48          entropy               1                     40   \n",
       "0           entropy               1                      2   \n",
       "30          entropy               1                     10   \n",
       "\n",
       "    param_min_samples_split param_n_estimators   \n",
       "184                       5                 25  \\\n",
       "147                       5                 10   \n",
       "408                       2                 10   \n",
       "297                      20                 10   \n",
       "775                      10                 25   \n",
       "..                      ...                ...   \n",
       "18                       10                 10   \n",
       "6                        10                 10   \n",
       "48                        2                 10   \n",
       "0                         2                 10   \n",
       "30                       10                 10   \n",
       "\n",
       "                                                params  split0_test_score   \n",
       "184  {'criterion': 'entropy', 'max_depth': 4, 'min_...           0.692778  \\\n",
       "147  {'criterion': 'entropy', 'max_depth': 3, 'min_...           0.690000   \n",
       "408  {'criterion': 'entropy', 'max_depth': 7, 'min_...           0.692222   \n",
       "297  {'criterion': 'entropy', 'max_depth': 5, 'min_...           0.683333   \n",
       "775  {'criterion': 'entropy', 'max_depth': 13, 'min...           0.680556   \n",
       "..                                                 ...                ...   \n",
       "18   {'criterion': 'entropy', 'max_depth': 1, 'min_...           0.588889   \n",
       "6    {'criterion': 'entropy', 'max_depth': 1, 'min_...           0.627222   \n",
       "48   {'criterion': 'entropy', 'max_depth': 1, 'min_...           0.584444   \n",
       "0    {'criterion': 'entropy', 'max_depth': 1, 'min_...           0.664444   \n",
       "30   {'criterion': 'entropy', 'max_depth': 1, 'min_...           0.653889   \n",
       "\n",
       "     split1_test_score  split2_test_score  split3_test_score   \n",
       "184           0.686111           0.673889           0.673333  \\\n",
       "147           0.681111           0.659444           0.682778   \n",
       "408           0.686667           0.664444           0.680556   \n",
       "297           0.695556           0.666111           0.683333   \n",
       "775           0.692222           0.668333           0.680556   \n",
       "..                 ...                ...                ...   \n",
       "18            0.651111           0.642222           0.641111   \n",
       "6             0.656667           0.660556           0.575556   \n",
       "48            0.659444           0.632222           0.644444   \n",
       "0             0.601111           0.590000           0.642222   \n",
       "30            0.611111           0.576667           0.593333   \n",
       "\n",
       "     split4_test_score  mean_test_score  std_test_score  rank_test_score  \n",
       "184           0.677222         0.680667        0.007588                1  \n",
       "147           0.688333         0.680333        0.010958                2  \n",
       "408           0.677778         0.680333        0.009386                3  \n",
       "297           0.671111         0.679889        0.010354                4  \n",
       "775           0.677222         0.679778        0.007663                5  \n",
       "..                 ...              ...             ...              ...  \n",
       "18            0.661667         0.637000        0.025165             2336  \n",
       "6             0.660000         0.636000        0.032670             2337  \n",
       "48            0.647778         0.633667        0.026095             2338  \n",
       "0             0.587222         0.617000        0.030839             2339  \n",
       "30            0.618889         0.610778        0.026047             2340  \n",
       "\n",
       "[2340 rows x 18 columns]"
      ]
     },
     "execution_count": 100,
     "metadata": {},
     "output_type": "execute_result"
    }
   ],
   "source": [
    "gs\n",
    "df = pd.DataFrame(gs.cv_results_)\n",
    "df.sort_values('rank_test_score')"
   ]
  },
  {
   "cell_type": "code",
   "execution_count": 39,
   "metadata": {},
   "outputs": [
    {
     "name": "stdout",
     "output_type": "stream",
     "text": [
      "Accuracy train: 0.6888888888888889\n",
      "Accuracy test: 0.682\n"
     ]
    }
   ],
   "source": [
    "rf = RandomForestClassifier(n_jobs=-1, criterion='entropy', min_samples_split=5, n_estimators=50, max_depth=5)\n",
    "rf.fit(x_train, y_train)\n",
    "pred_train = rf.predict(x_train)\n",
    "pred_test = rf.predict(x_test)\n",
    "\n",
    "acc_train = accuracy_score(y_train, pred_train)\n",
    "acc_test = accuracy_score(y_test, pred_test)\n",
    "\n",
    "print(f'Accuracy train: {acc_train}\\nAccuracy test: {acc_test}')"
   ]
  },
  {
   "attachments": {},
   "cell_type": "markdown",
   "metadata": {},
   "source": [
    "# MLP\n"
   ]
  },
  {
   "cell_type": "code",
   "execution_count": 193,
   "metadata": {},
   "outputs": [
    {
     "name": "stdout",
     "output_type": "stream",
     "text": [
      "Accuracy train: 0.6866666666666666\n",
      "Accuracy test: 0.664\n"
     ]
    }
   ],
   "source": [
    "mlp = MLPClassifier(hidden_layer_sizes=(10,), alpha=0.01, max_iter=10000, learning_rate_init=0.01)\n",
    "\n",
    "mlp.fit(x_train, y_train)\n",
    "\n",
    "\n",
    "pred_train = mlp.predict(x_train)\n",
    "pred_test = mlp.predict(x_test)\n",
    "\n",
    "acc_train = accuracy_score(y_train, pred_train)\n",
    "acc_test = accuracy_score(y_test, pred_test)\n",
    "\n",
    "print(f'Accuracy train: {acc_train}\\nAccuracy test: {acc_test}')"
   ]
  },
  {
   "cell_type": "code",
   "execution_count": 98,
   "metadata": {},
   "outputs": [
    {
     "data": {
      "image/png": "[encoded data removed]",
      "text/plain": [
       "<Figure size 640x480 with 1 Axes>"
      ]
     },
     "metadata": {},
     "output_type": "display_data"
    },
    {
     "data": {
      "text/plain": [
       "0.912510118936422"
      ]
     },
     "execution_count": 98,
     "metadata": {},
     "output_type": "execute_result"
    }
   ],
   "source": [
    "recalls = {}\n",
    "accuracies = {}\n",
    "for m_depth in range(50):\n",
    "    dc = DecisionTreeClassifier(criterion='entropy', max_depth=m_depth)\n",
    "    dc.fit(x_train, y_train)\n",
    "    preds = dc.predict(x_train)\n",
    "    recalls[m_depth] = recall_score(y_train, preds)\n",
    "    accuracies[m_depth] = accuracy_score(y_train, preds)\n",
    "\n",
    "\n",
    "plt.figure()\n",
    "plt.plot(list(recalls.keys()), list(recalls.values()))\n",
    "plt.show()\n",
    "\n",
    "\n",
    "recalls[1]"
   ]
  },
  {
   "cell_type": "code",
   "execution_count": 77,
   "metadata": {},
   "outputs": [
    {
     "ename": "NameError",
     "evalue": "name 'accuracy_test' is not defined",
     "output_type": "error",
     "traceback": [
      "\u001b[0;31m---------------------------------------------------------------------------\u001b[0m",
      "\u001b[0;31mNameError\u001b[0m                                 Traceback (most recent call last)",
      "Cell \u001b[0;32mIn[77], line 3\u001b[0m\n\u001b[1;32m      1\u001b[0m plt\u001b[39m.\u001b[39mfigure()\n\u001b[1;32m      2\u001b[0m plt\u001b[39m.\u001b[39mtitle \u001b[39m=\u001b[39m \u001b[39m'\u001b[39m\u001b[39mTest accuracy\u001b[39m\u001b[39m'\u001b[39m\n\u001b[0;32m----> 3\u001b[0m plt\u001b[39m.\u001b[39mplot(\u001b[39mlist\u001b[39m(accuracy_test\u001b[39m.\u001b[39mkeys()), \u001b[39mlist\u001b[39m(accuracy_test\u001b[39m.\u001b[39mvalues()))\n",
      "\u001b[0;31mNameError\u001b[0m: name 'accuracy_test' is not defined"
     ]
    },
    {
     "data": {
      "text/plain": [
       "<Figure size 640x480 with 0 Axes>"
      ]
     },
     "metadata": {},
     "output_type": "display_data"
    }
   ],
   "source": [
    "plt.figure()\n",
    "plt.title = 'Test accuracy'\n",
    "plt.plot(list(accuracy_test.keys()), list(accuracy_test.values()))"
   ]
  }
 ],
 "metadata": {
  "kernelspec": {
   "display_name": "venv",
   "language": "python",
   "name": "python3"
  },
  "language_info": {
   "codemirror_mode": {
    "name": "ipython",
    "version": 3
   },
   "file_extension": ".py",
   "mimetype": "text/x-python",
   "name": "python",
   "nbconvert_exporter": "python",
   "pygments_lexer": "ipython3",
   "version": "3.10.6"
  },
  "orig_nbformat": 4
 },
 "nbformat": 4,
 "nbformat_minor": 2
}
